{
 "cells": [
  {
   "cell_type": "markdown",
   "metadata": {},
   "source": [
    "# Problem Set 2 - Part 2\n",
    "### Heather Chen"
   ]
  },
  {
   "cell_type": "markdown",
   "metadata": {},
   "source": [
    "**Exercise 2.1.** You can verify that the analytical solution to the integral of the function\n",
    "\\begin{equation*}\n",
    "  g(x)=0.1x^4 -1.5x^3 + 0.53x^2 + 2x + 1\n",
    "\\end{equation*}\n",
    "between $x=-10$ and $x=10$ is $\\int_{-10}^{10} g(x)dx = 4,373.3\\bar{3}$. Write a Python function that will take as arguments an anonymous function that the user specifies representing $g(x)$, integration bounds $a$ and $b$, the number of intervals $N$, and\n",
    "```python\n",
    "method = {'midpoint', 'trapezoid', 'Simpsons'}\n",
    "```\n",
    "Using the composite methods, evaluate the numerical approximations of the integral $\\int_a^b g(x)dx$ using all three Newton-Cotes methods in your function and compare the difference between the values of these integrals to the true analytical value of the integral."
   ]
  },
  {
   "cell_type": "code",
   "execution_count": 1,
   "metadata": {},
   "outputs": [],
   "source": [
    "import sympy as sy\n",
    "import numpy as np\n",
    "\n",
    "def NCquadrature(func, a, b, N, method):\n",
    "    if method == \"midpoint\":\n",
    "        sum1 = 0\n",
    "        for i in range(N):\n",
    "            sum1 = sum1 + func(a + (2*i+1)*(b-a)/(2*N) )\n",
    "        return (b-a)*sum1/N\n",
    "    elif method == \"trapezoid\":\n",
    "        sum2 = 0\n",
    "        for i in range(N):\n",
    "            if i == 0:\n",
    "                sum2 = sum2 + func(a)\n",
    "            else:\n",
    "                sum2 = sum2 + 2*func(a + i*(b-a)/N)\n",
    "        sum2 = sum2 + func(b)\n",
    "        return (b-a)*sum2/(2*N)\n",
    "    elif method == \"Simpsons\":\n",
    "        sum3 = 0\n",
    "        for i in range(2*N):\n",
    "            if i == 0:\n",
    "                sum3 = sum3 + func(a)\n",
    "            elif i%2==1:\n",
    "                sum3 = sum3 + 4*func(a + i*(b-a)/(2*N))\n",
    "            elif i%2==0:\n",
    "                sum3 = sum3 + 2*func(a + i*(b-a)/(2*N))\n",
    "        sum3 = sum3 + func(b)\n",
    "        return (b-a)*sum3/(6*N)"
   ]
  },
  {
   "cell_type": "code",
   "execution_count": 2,
   "metadata": {},
   "outputs": [
    {
     "name": "stdout",
     "output_type": "stream",
     "text": [
      "The difference between midpoint and true integral: 7.803464541211724e-10\n",
      "The difference between trapezoid and true integral: 9.822542779147625e-11\n",
      "The difference between Simpsons and true integral: 7.121343514882028e-10\n"
     ]
    }
   ],
   "source": [
    "x = sy.symbols(\"x\")\n",
    "f_x = 0.1*x**4 - 1.5*x**3 + 0.53*x**2 + 2*x + 1\n",
    "f = sy.lambdify(x, f_x)\n",
    "f_x_int = lambda x: (0.1/5)*x**5 - (1.5/4)*x**4 + (0.53/3)*x**3 + x**2 + x\n",
    "f_int = f_x_int(10) - f_x_int(-10)\n",
    "for method in [\"midpoint\", \"trapezoid\", \"Simpsons\"]:\n",
    "    dif = abs(f_int - NCquadrature(f, -10, 10, 10000000, method))\n",
    "    print(\"The difference between {} and true integral: {}\".format(method, dif))"
   ]
  },
  {
   "cell_type": "markdown",
   "metadata": {},
   "source": [
    "**Exercise 2.2.** Write a Python function that makes a Newton-Cotes discrete approximation of the distribution of the normally distributed variable $Z \\sim N(\\mu,\\sigma)$. Let this function take as arguments the mean $\\mu$, the standard deviation $\\sigma$, the number of equally spaced nodes $N$ to estimate the distribution, and the number of standard deviations $k$ away from $\\mu$ to make the furthest nodes on either side of $\\mu$. Use the [`scipy.stats.norm.cdf`](http://docs.scipy.org/doc/scipy/reference/generated/scipy.stats.norm.html#scipy.stats.norm) command for the cdf of the normal distribution to compute the weights $\\omega_n$ for the nodes $x_n$. Have this function return a vector of nodes of $[Z_1,Z_2,...Z_N]$ and a vector of weights $[\\omega_1,\\omega_2,...\\omega_N]$ such that $\\omega_i$ is given by the integral under the normal distribution between the midpoints of the two closest nodes. Define $f(Z;\\mu,\\sigma)$ as the pdf of the normal distribution and $F(Z;\\mu,\\sigma)$ as the cdf.\n",
    "\\begin{equation*}\n",
    "  \\begin{split}\n",
    "    &\\omega_i =\n",
    "      \\begin{cases}\n",
    "        F\\left(\\frac{Z_1 + Z_2}{2};\\mu,\\sigma\\right) \\quad\\quad\\quad\\quad\\:\\text{if}\\quad i = 1 \\\\\n",
    "        \\int_{Z_{min}}^{Z_{max}}f(Z;\\mu,\\sigma)dZ \\quad\\quad\\:\\:\\text{if}\\quad 1<i<N \\\\\n",
    "        1 - F\\left(\\frac{Z_{N-1} + Z_{N}}{2};\\mu,\\sigma\\right) \\quad\\text{if}\\quad i = N\n",
    "      \\end{cases} \\\\\n",
    "    &\\text{where}\\quad Z_{min} = \\frac{Z_{i-1} + Z_{i}}{2} \\quad\\text{and}\\quad Z_{max} = \\frac{Z_{i} + Z_{i+1}}{2}\n",
    "  \\end{split}\n",
    "\\end{equation*}\n",
    "What are the weights and nodes $\\{\\omega_n,Z_n\\}_{n=1}^N$ for $N=11$?"
   ]
  },
  {
   "cell_type": "code",
   "execution_count": 3,
   "metadata": {},
   "outputs": [],
   "source": [
    "from scipy.stats import norm\n",
    "from scipy.integrate import quad\n",
    "import pandas as pd\n",
    "\n",
    "def NCnorm(mu, sigma, N, k):\n",
    "    z_points = np.linspace(mu-k*sigma, mu+k*sigma, N)\n",
    "    w_points = np.zeros(N)\n",
    "    for i in range(N):\n",
    "        if i==0:\n",
    "            w_points[i] = norm.cdf((z_points[0]+z_points[1])/2, loc=mu, scale=sigma)\n",
    "        elif i==N-1:\n",
    "            w_points[i] = 1 - norm.cdf((z_points[N-2]+z_points[N-1])/2, loc=mu, scale=sigma)\n",
    "        else:\n",
    "            pdf = lambda x: norm.pdf(x, loc=mu, scale=sigma)\n",
    "            z_min = (z_points[i-1]+z_points[i])/2\n",
    "            z_max = (z_points[i]+z_points[i+1])/2\n",
    "            w_points[i] = quad(pdf, z_min, z_max)[0]\n",
    "    return z_points, w_points"
   ]
  },
  {
   "cell_type": "code",
   "execution_count": 4,
   "metadata": {},
   "outputs": [
    {
     "data": {
      "text/html": [
       "<div>\n",
       "<style scoped>\n",
       "    .dataframe tbody tr th:only-of-type {\n",
       "        vertical-align: middle;\n",
       "    }\n",
       "\n",
       "    .dataframe tbody tr th {\n",
       "        vertical-align: top;\n",
       "    }\n",
       "\n",
       "    .dataframe thead th {\n",
       "        text-align: right;\n",
       "    }\n",
       "</style>\n",
       "<table border=\"1\" class=\"dataframe\">\n",
       "  <thead>\n",
       "    <tr style=\"text-align: right;\">\n",
       "      <th></th>\n",
       "      <th>z nodes</th>\n",
       "      <th>weights</th>\n",
       "    </tr>\n",
       "  </thead>\n",
       "  <tbody>\n",
       "    <tr>\n",
       "      <th>0</th>\n",
       "      <td>-3.0</td>\n",
       "      <td>0.003467</td>\n",
       "    </tr>\n",
       "    <tr>\n",
       "      <th>1</th>\n",
       "      <td>-2.4</td>\n",
       "      <td>0.014397</td>\n",
       "    </tr>\n",
       "    <tr>\n",
       "      <th>2</th>\n",
       "      <td>-1.8</td>\n",
       "      <td>0.048943</td>\n",
       "    </tr>\n",
       "    <tr>\n",
       "      <th>3</th>\n",
       "      <td>-1.2</td>\n",
       "      <td>0.117253</td>\n",
       "    </tr>\n",
       "    <tr>\n",
       "      <th>4</th>\n",
       "      <td>-0.6</td>\n",
       "      <td>0.198028</td>\n",
       "    </tr>\n",
       "    <tr>\n",
       "      <th>5</th>\n",
       "      <td>0.0</td>\n",
       "      <td>0.235823</td>\n",
       "    </tr>\n",
       "    <tr>\n",
       "      <th>6</th>\n",
       "      <td>0.6</td>\n",
       "      <td>0.198028</td>\n",
       "    </tr>\n",
       "    <tr>\n",
       "      <th>7</th>\n",
       "      <td>1.2</td>\n",
       "      <td>0.117253</td>\n",
       "    </tr>\n",
       "    <tr>\n",
       "      <th>8</th>\n",
       "      <td>1.8</td>\n",
       "      <td>0.048943</td>\n",
       "    </tr>\n",
       "    <tr>\n",
       "      <th>9</th>\n",
       "      <td>2.4</td>\n",
       "      <td>0.014397</td>\n",
       "    </tr>\n",
       "    <tr>\n",
       "      <th>10</th>\n",
       "      <td>3.0</td>\n",
       "      <td>0.003467</td>\n",
       "    </tr>\n",
       "  </tbody>\n",
       "</table>\n",
       "</div>"
      ],
      "text/plain": [
       "    z nodes   weights\n",
       "0      -3.0  0.003467\n",
       "1      -2.4  0.014397\n",
       "2      -1.8  0.048943\n",
       "3      -1.2  0.117253\n",
       "4      -0.6  0.198028\n",
       "5       0.0  0.235823\n",
       "6       0.6  0.198028\n",
       "7       1.2  0.117253\n",
       "8       1.8  0.048943\n",
       "9       2.4  0.014397\n",
       "10      3.0  0.003467"
      ]
     },
     "execution_count": 4,
     "metadata": {},
     "output_type": "execute_result"
    }
   ],
   "source": [
    "z_nodes, w_nodes = NCnorm(mu=0, sigma=1, N=11, k=3)\n",
    "ncdf = pd.DataFrame({\"z nodes\": z_nodes, \"weights\": w_nodes})\n",
    "ncdf"
   ]
  },
  {
   "cell_type": "markdown",
   "metadata": {},
   "source": [
    "**Exercise 2.3.** If $Z\\sim N(\\mu,\\sigma)$, then $A\\equiv e^Z\\sim LN(\\mu,\\sigma)$ is distributed lognormally and $\\log(A)\\sim N(\\mu,\\sigma)$. Use your knowledge that $A\\equiv e^Z$, $\\log(A)\\sim N(\\mu,\\sigma)$, and your function from Exercise 2.2 to write a function that gives a discrete approximation to the lognormal distribution. Note: You will not end up with evenly spaced nodes $[A_1,A_2,...A_N]$, but your weights should be the same as in Exercise 2.2."
   ]
  },
  {
   "cell_type": "code",
   "execution_count": 5,
   "metadata": {},
   "outputs": [],
   "source": [
    "def NClog(mu, sigma, N, k):\n",
    "    z_nodes, w_nodes = NCnorm(mu, sigma, N, k)\n",
    "    logz_nodes = np.exp(z_nodes)\n",
    "    return logz_nodes, w_nodes"
   ]
  },
  {
   "cell_type": "code",
   "execution_count": 6,
   "metadata": {},
   "outputs": [
    {
     "data": {
      "text/html": [
       "<div>\n",
       "<style scoped>\n",
       "    .dataframe tbody tr th:only-of-type {\n",
       "        vertical-align: middle;\n",
       "    }\n",
       "\n",
       "    .dataframe tbody tr th {\n",
       "        vertical-align: top;\n",
       "    }\n",
       "\n",
       "    .dataframe thead th {\n",
       "        text-align: right;\n",
       "    }\n",
       "</style>\n",
       "<table border=\"1\" class=\"dataframe\">\n",
       "  <thead>\n",
       "    <tr style=\"text-align: right;\">\n",
       "      <th></th>\n",
       "      <th>A nodes</th>\n",
       "      <th>weights</th>\n",
       "    </tr>\n",
       "  </thead>\n",
       "  <tbody>\n",
       "    <tr>\n",
       "      <th>0</th>\n",
       "      <td>0.049787</td>\n",
       "      <td>0.003467</td>\n",
       "    </tr>\n",
       "    <tr>\n",
       "      <th>1</th>\n",
       "      <td>0.090718</td>\n",
       "      <td>0.014397</td>\n",
       "    </tr>\n",
       "    <tr>\n",
       "      <th>2</th>\n",
       "      <td>0.165299</td>\n",
       "      <td>0.048943</td>\n",
       "    </tr>\n",
       "    <tr>\n",
       "      <th>3</th>\n",
       "      <td>0.301194</td>\n",
       "      <td>0.117253</td>\n",
       "    </tr>\n",
       "    <tr>\n",
       "      <th>4</th>\n",
       "      <td>0.548812</td>\n",
       "      <td>0.198028</td>\n",
       "    </tr>\n",
       "    <tr>\n",
       "      <th>5</th>\n",
       "      <td>1.000000</td>\n",
       "      <td>0.235823</td>\n",
       "    </tr>\n",
       "    <tr>\n",
       "      <th>6</th>\n",
       "      <td>1.822119</td>\n",
       "      <td>0.198028</td>\n",
       "    </tr>\n",
       "    <tr>\n",
       "      <th>7</th>\n",
       "      <td>3.320117</td>\n",
       "      <td>0.117253</td>\n",
       "    </tr>\n",
       "    <tr>\n",
       "      <th>8</th>\n",
       "      <td>6.049647</td>\n",
       "      <td>0.048943</td>\n",
       "    </tr>\n",
       "    <tr>\n",
       "      <th>9</th>\n",
       "      <td>11.023176</td>\n",
       "      <td>0.014397</td>\n",
       "    </tr>\n",
       "    <tr>\n",
       "      <th>10</th>\n",
       "      <td>20.085537</td>\n",
       "      <td>0.003467</td>\n",
       "    </tr>\n",
       "  </tbody>\n",
       "</table>\n",
       "</div>"
      ],
      "text/plain": [
       "      A nodes   weights\n",
       "0    0.049787  0.003467\n",
       "1    0.090718  0.014397\n",
       "2    0.165299  0.048943\n",
       "3    0.301194  0.117253\n",
       "4    0.548812  0.198028\n",
       "5    1.000000  0.235823\n",
       "6    1.822119  0.198028\n",
       "7    3.320117  0.117253\n",
       "8    6.049647  0.048943\n",
       "9   11.023176  0.014397\n",
       "10  20.085537  0.003467"
      ]
     },
     "execution_count": 6,
     "metadata": {},
     "output_type": "execute_result"
    }
   ],
   "source": [
    "log_nodes, log_w = NClog(0, 1, 11, 3)\n",
    "logdf = pd.DataFrame({\"A nodes\": log_nodes, \"weights\": log_w})\n",
    "logdf"
   ]
  },
  {
   "cell_type": "markdown",
   "metadata": {},
   "source": [
    "**Exercise 2.4.** Let $Y_i$ represent the income of individual $i$ in the United States for all individuals $i$. Assume that income $Y_i$ is lognormally distributed in the U.S. according to $Y_i\\sim LN(\\mu,\\sigma)$, where the mean of log income is $\\mu = 10.5$ and the standard deviation of log income is $\\sigma = 0.8$. Use your function from Exercise 2.3 to compute an approximation of the expected value of income or average income in the U.S. How does your approximation compare to the exact expected value of $E[Y] = e^{\\mu + \\frac{\\sigma^2}{2}}$?"
   ]
  },
  {
   "cell_type": "code",
   "execution_count": 7,
   "metadata": {},
   "outputs": [
    {
     "name": "stdout",
     "output_type": "stream",
     "text": [
      "The difference between my estimate and true value is: 0.09771553955943091\n"
     ]
    }
   ],
   "source": [
    "import math\n",
    "\n",
    "y_nodes, weights = NClog(10.5, 0.8, 10000, 5)\n",
    "E_est = y_nodes @ weights\n",
    "E_acu = math.exp(10.5+0.8**2/2)\n",
    "print(\"The difference between my estimate and true value is: {}\".format(abs(E_est - E_acu)))"
   ]
  },
  {
   "cell_type": "markdown",
   "metadata": {},
   "source": [
    "**Exercise 3.1.** Approximate the integral of the function in Exercise 2.1 using Gaussian quadrature with $N=3$, $(\\omega_1,\\omega_2,\\omega_3,x_1,x_2,x_3)$. Use the class of polynomials $h_i(x)=x^i$. How does the accuracy of your approximated integral compare to the approximations from Exercise 2.1 and the true known value of the integral?"
   ]
  },
  {
   "cell_type": "code",
   "execution_count": 8,
   "metadata": {},
   "outputs": [],
   "source": [
    "import scipy\n",
    "\n",
    "def Gau(f, N, a, b):\n",
    "    init_weight = [1/N for i in range(N)]\n",
    "    init_x = [a+i*(b-a)/(N-1) for i in range(N)]\n",
    "    init = init_weight+init_x\n",
    "    def func(x):\n",
    "        res = []\n",
    "        weights = x[:N]\n",
    "        nodes = x[N:]\n",
    "        for i in range(2*N):\n",
    "            poly = sum(weights[k]*(nodes[k]**i) for k in range(N))\n",
    "            res.append((b**(i+1)-a**(i+1))/(i+1)-poly)\n",
    "        return tuple(k for k in res)\n",
    "    roots = [i for i in scipy.optimize.root(func, init)['x']]\n",
    "    weights = roots[:N]\n",
    "    nodes = roots[N:]\n",
    "    est = 0\n",
    "    for i in range(N):\n",
    "        est = est + weights[i]*f(nodes[i])\n",
    "    return est"
   ]
  },
  {
   "cell_type": "code",
   "execution_count": 9,
   "metadata": {},
   "outputs": [
    {
     "name": "stdout",
     "output_type": "stream",
     "text": [
      "My Gaussian quadrature estimate is: 4373.333333189601\n",
      "The difference between Gaussian estimate and midpoint estimate is: 1.4295255823526531e-07\n",
      "The difference between Gaussian estimate and true value is: 1.437329046893865e-07\n"
     ]
    }
   ],
   "source": [
    "f_x = 0.1*x**4 - 1.5*x**3 + 0.53*x**2 + 2*x + 1\n",
    "f = sy.lambdify(x, f_x)\n",
    "Gau_est = Gau(f, 3, -10, 10)\n",
    "NC_est = NCquadrature(f, -10, 10, 10000000, \"midpoint\")\n",
    "print(\"My Gaussian quadrature estimate is: {}\".format(Gau_est))\n",
    "print(\"The difference between Gaussian estimate and midpoint estimate is: {}\".format(abs(Gau_est-NC_est)))\n",
    "print(\"The difference between Gaussian estimate and true value is: {}\".format(abs(Gau_est-f_int)))"
   ]
  },
  {
   "cell_type": "markdown",
   "metadata": {},
   "source": [
    "**Exercise 3.2.** Use the Python Gaussian quadrature command [`scipy.integrate.quad`](http://docs.scipy.org/doc/scipy/reference/generated/scipy.integrate.quad.html#scipy.integrate.quad) to numerically approximate the integral from Exercise 2.1.\n",
    "\\begin{equation*}\n",
    "  \\int_{-10}^{10} g(x)dx \\quad\\text{where}\\quad g(x)=0.1x^4 -1.5x^3 + 0.53x^2 + 2x + 1\n",
    "\\end{equation*}\n",
    "How does the approximated integral using the [`scipy.integrate.quad`](http://docs.scipy.org/doc/scipy/reference/generated/scipy.integrate.quad.html#scipy.integrate.quad) command compare to the known analytical value of the integral?"
   ]
  },
  {
   "cell_type": "code",
   "execution_count": 10,
   "metadata": {},
   "outputs": [
    {
     "name": "stdout",
     "output_type": "stream",
     "text": [
      "The difference between quad estimate and true value is: 0.0\n"
     ]
    }
   ],
   "source": [
    "Quad_est = quad(f, -10, 10)[0]\n",
    "print(\"The difference between quad estimate and true value is: {}\".format(abs(Quad_est-f_int)))"
   ]
  },
  {
   "cell_type": "markdown",
   "metadata": {},
   "source": [
    "**Exercise 4.1.** Use Monte Carlo integration to approximate the value of $\\pi$. Define a function in that takes as arguments a function $g(\\mathbf{x})$ of a vector of variables $\\mathbf{x}$, the domain $\\Omega$ of $\\mathbf{x}$, and the number of random draws $N$ and returns the Monte Carlo approximation of the integral $\\int_\\Omega g(\\mathbf{x}) d\\mathbf{x}$. Let $\\Omega$ be a generalized rectangle--width $x$ and height $y$. In order to approximate $\\pi$, let the functional form of the anonymous function be $g(x,y)$ from Section 4.1 with domain $\\Omega = [-1,1]\\times[-1,1]$. What is the smallest number of random draws $N$ from $\\Omega$ that matches the true value of $\\pi$ to the 4th decimal 3.1415? Set the random seed in your uniform random number generator to 25. This will make the correct answer consistent across submissions."
   ]
  },
  {
   "cell_type": "code",
   "execution_count": 17,
   "metadata": {},
   "outputs": [],
   "source": [
    "import numpy as np\n",
    "\n",
    "np.random.seed(25)\n",
    "def MC_pi(g, omega, N):\n",
    "    x_down, y_down, x_up, y_up = omega[0], omega[1], omega[2], omega[3]\n",
    "    x_points = np.random.uniform(x_down, x_up, N)\n",
    "    y_points = np.random.uniform(y_down, y_up, N)\n",
    "    est = np.sum(g(x_points, y_points))\n",
    "    return (4/N)*est\n",
    "\n",
    "cir = lambda x,y: x**2+y**2<=1"
   ]
  },
  {
   "cell_type": "code",
   "execution_count": 18,
   "metadata": {},
   "outputs": [
    {
     "name": "stdout",
     "output_type": "stream",
     "text": [
      "The smallest number that match true value of 3.1415 is: 615\n"
     ]
    }
   ],
   "source": [
    "num = 1\n",
    "while True:\n",
    "    if round(MC_pi(cir, [-1,-1,1,1], num), 4) != 3.1415:\n",
    "        num = num + 1\n",
    "    else:\n",
    "        print(\"The smallest number that match true value of 3.1415 is: {}\".format(num))\n",
    "        break"
   ]
  },
  {
   "cell_type": "markdown",
   "metadata": {},
   "source": [
    "**Exercise 4.2.** Define a function in that returns the $n$-th element of a $d$-dimensional equidistributed sequence.  It should have support for the four sequences in the Table in Section 4.2."
   ]
  },
  {
   "cell_type": "code",
   "execution_count": 53,
   "metadata": {},
   "outputs": [],
   "source": [
    "def isPrime(n):\n",
    "    for i in range(2, int(np.sqrt(n) + 1)):\n",
    "        if n % i == 0:\n",
    "            return False\n",
    "    return True\n",
    "\n",
    "def primes_ascend(N, min_val=2):\n",
    "    primes_vec = np.zeros(N, dtype=int)\n",
    "    MinIsEven = 1 - min_val % 2\n",
    "    MinIsGrtrThn2 = min_val > 2\n",
    "    curr_prime_ind = 0\n",
    "    if not MinIsGrtrThn2:\n",
    "        i = 2\n",
    "        curr_prime_ind += 1\n",
    "        primes_vec[0] = i\n",
    "    i = min(3, min_val + (MinIsEven * 1))\n",
    "    while curr_prime_ind < N:\n",
    "        if isPrime(i):\n",
    "            curr_prime_ind += 1\n",
    "            primes_vec[curr_prime_ind - 1] = i\n",
    "        i += 2\n",
    "    return primes_vec"
   ]
  },
  {
   "cell_type": "code",
   "execution_count": 54,
   "metadata": {},
   "outputs": [],
   "source": [
    "def rational_list(d):\n",
    "    return [1/(i+1) for i in range(d)]\n",
    "\n",
    "def truncate(n, decimals=0):\n",
    "    multiplier = 10 ** decimals\n",
    "    return int(n * multiplier) / multiplier\n",
    "\n",
    "def equidis(n, d, method):\n",
    "    prime_points = primes_ascend(d)\n",
    "    res = []\n",
    "    if method == \"Weyl\":\n",
    "        for i in range(d):\n",
    "            x = n*np.sqrt(prime_points[i])\n",
    "            res.append(x - truncate(x))\n",
    "        return res\n",
    "    elif method == \"Haber\":\n",
    "        for i in range(d):\n",
    "            x = (n*(n+1)/2)*np.sqrt(prime_points[i])\n",
    "            res.append(x - truncate(x))\n",
    "        return res\n",
    "    elif method == \"Niederreiter\":\n",
    "        for i in range(d):\n",
    "            x = n*(2**((i+1)/(d+1)))\n",
    "            res.append(x - truncate(x))\n",
    "        return res\n",
    "    elif method == \"Baker\":\n",
    "        rat_list = rational_list(d)\n",
    "        for i in range(d):\n",
    "            x = n*(np.exp(rat_list[i]))\n",
    "            res.append(x - truncate(x))\n",
    "        return res\n",
    "        "
   ]
  },
  {
   "cell_type": "code",
   "execution_count": 55,
   "metadata": {},
   "outputs": [
    {
     "name": "stdout",
     "output_type": "stream",
     "text": [
      "[0.0710678118654755, 0.6602540378443855, 0.18033988749894903, 0.2287565553229527]\n"
     ]
    }
   ],
   "source": [
    "print(equidis(5, 4, \"Weyl\"))"
   ]
  },
  {
   "cell_type": "code",
   "execution_count": 56,
   "metadata": {},
   "outputs": [
    {
     "name": "stdout",
     "output_type": "stream",
     "text": [
      "[0.21320343559642652, 0.9807621135331566, 0.5410196624968506, 0.6862696659688581]\n"
     ]
    }
   ],
   "source": [
    "print(equidis(5, 4, \"Haber\"))  "
   ]
  },
  {
   "cell_type": "code",
   "execution_count": 57,
   "metadata": {},
   "outputs": [
    {
     "name": "stdout",
     "output_type": "stream",
     "text": [
      "[0.7434917749851753, 0.597539553864471, 0.57858283255199, 0.7055056329612412]\n"
     ]
    }
   ],
   "source": [
    "print(equidis(5, 4, \"Niederreiter\"))  "
   ]
  },
  {
   "cell_type": "code",
   "execution_count": 58,
   "metadata": {},
   "outputs": [
    {
     "name": "stdout",
     "output_type": "stream",
     "text": [
      "[0.591409142295225, 0.24360635350064186, 0.9780621254304478, 0.4201270834387074]\n"
     ]
    }
   ],
   "source": [
    "print(equidis(5, 4, \"Baker\"))"
   ]
  },
  {
   "cell_type": "markdown",
   "metadata": {},
   "source": [
    "**Exercise 4.3** Repeat Exercise 4.1 to approximate the value of $\\pi$, this time using quasi-Monte Carlo integration.  You will need to appropriately scale the equidistributed sequences. Compare the rates of convergence. What is the smallest number of random draws $N$ from $\\Omega$ for the quasi-Monte Carlo integration that matches the true value of $\\pi$ to the 4th decimal 3.1415?. Set the seed in your uniform random number generator to 25. This will make the correct answer consistent across submissions."
   ]
  },
  {
   "cell_type": "code",
   "execution_count": 61,
   "metadata": {},
   "outputs": [
    {
     "name": "stdout",
     "output_type": "stream",
     "text": [
      "Using Weyl, the smallest number that match true value 3.1415 is: 1230\n",
      "Using Haber, the smallest number that match true value 3.1415 is: 2064\n",
      "Using Niederreiter, the smallest number that match true value 3.1415 is: 1845\n",
      "Using Baker, the smallest number that match true value 3.1415 is: 205\n"
     ]
    }
   ],
   "source": [
    "np.random.seed(25)\n",
    "def quasi_MC(N, method, g, omega):\n",
    "    x_down, y_down, x_up, y_up = omega[0], omega[1], omega[2], omega[3]\n",
    "    x_points = [(x_up - x_down)*equidis(i, 2, method)[0] + x_down for i in range(N)]\n",
    "    y_points = [(y_up - y_down)*equidis(i, 2, method)[1] + y_down for i in range(N)]\n",
    "    est = np.sum(g(np.array(x_points), np.array(y_points)))\n",
    "    \n",
    "    return (4/N)*est\n",
    "\n",
    "for me in [\"Weyl\", \"Haber\", \"Niederreiter\", \"Baker\"]:\n",
    "    num = 1\n",
    "    while True:\n",
    "        if round(quasi_MC(num, me, cir, [-1,-1,1,1]), 4) != 3.1415:\n",
    "            num = num + 1\n",
    "        else:\n",
    "            print(\"Using {}, the smallest number that match true value 3.1415 is: {}\".format(me, num))\n",
    "            break"
   ]
  },
  {
   "cell_type": "markdown",
   "metadata": {},
   "source": [
    "The smallest number of random draws N from $\\omega$ is Baker compared with all methods. "
   ]
  },
  {
   "cell_type": "code",
   "execution_count": null,
   "metadata": {},
   "outputs": [],
   "source": []
  }
 ],
 "metadata": {
  "kernelspec": {
   "display_name": "Python 3",
   "language": "python",
   "name": "python3"
  },
  "language_info": {
   "codemirror_mode": {
    "name": "ipython",
    "version": 3
   },
   "file_extension": ".py",
   "mimetype": "text/x-python",
   "name": "python",
   "nbconvert_exporter": "python",
   "pygments_lexer": "ipython3",
   "version": "3.7.4"
  }
 },
 "nbformat": 4,
 "nbformat_minor": 2
}
